{
  "nbformat": 4,
  "nbformat_minor": 0,
  "metadata": {
    "colab": {
      "name": "cnn_cats_dogs.ipynb",
      "provenance": [],
      "collapsed_sections": [],
      "mount_file_id": "1Ju78eJRzlW1h7MEqfv7bF_sqtnoiI6ng",
      "authorship_tag": "ABX9TyPYUHAkBLrOmQWAC8tIcUZA",
      "include_colab_link": true
    },
    "kernelspec": {
      "display_name": "Python 3",
      "language": "python",
      "name": "python3"
    },
    "language_info": {
      "codemirror_mode": {
        "name": "ipython",
        "version": 3
      },
      "file_extension": ".py",
      "mimetype": "text/x-python",
      "name": "python",
      "nbconvert_exporter": "python",
      "pygments_lexer": "ipython3",
      "version": "3.7.6"
    }
  },
  "cells": [
    {
      "cell_type": "markdown",
      "metadata": {
        "id": "view-in-github",
        "colab_type": "text"
      },
      "source": [
        "<a href=\"https://colab.research.google.com/github/brunokiyoshi/machine_learning/blob/master/cnn_cats_dogs.ipynb\" target=\"_parent\"><img src=\"https://colab.research.google.com/assets/colab-badge.svg\" alt=\"Open In Colab\"/></a>"
      ]
    },
    {
      "cell_type": "code",
      "metadata": {
        "colab_type": "code",
        "id": "pNHhJN7fhr83",
        "colab": {}
      },
      "source": [
        "import tensorflow as tf\n",
        "from keras.preprocessing.image import ImageDataGenerator"
      ],
      "execution_count": null,
      "outputs": []
    },
    {
      "cell_type": "code",
      "metadata": {
        "colab_type": "code",
        "id": "9u1yGpTwiwOH",
        "colab": {
          "base_uri": "https://localhost:8080/",
          "height": 35
        },
        "outputId": "4a866b61-03ec-41ff-a3cf-12c2ff75d52b"
      },
      "source": [
        "tf.__version__"
      ],
      "execution_count": null,
      "outputs": [
        {
          "output_type": "execute_result",
          "data": {
            "application/vnd.google.colaboratory.intrinsic+json": {
              "type": "string"
            },
            "text/plain": [
              "'2.3.0'"
            ]
          },
          "metadata": {
            "tags": []
          },
          "execution_count": 13
        }
      ]
    },
    {
      "cell_type": "code",
      "metadata": {
        "colab_type": "code",
        "id": "OpuIkXzjiyB8",
        "colab": {
          "base_uri": "https://localhost:8080/",
          "height": 34
        },
        "outputId": "eab8ea19-92f0-449e-a27c-3996ad7cb0ed"
      },
      "source": [
        "# Data preprocessing\n",
        "\n",
        "# Preprocessing the training set\n",
        "\n",
        "# Apply transformations to avoid overfitting (image augmentations)\n",
        "from keras.preprocessing.image import ImageDataGenerator\n",
        "\n",
        "train_datagen = ImageDataGenerator(\n",
        "    rescale=1./255,\n",
        "    shear_range=0.2,\n",
        "    zoom_range=0.2,\n",
        "    horizontal_flip=True\n",
        ")\n",
        "\n",
        "# Import the dataset\n",
        "training_set = train_datagen.flow_from_directory(\n",
        "    '/content/drive/My Drive/Colab Notebooks/CNN cats and dogs/dataset/training_set',\n",
        "    target_size=(64, 64),\n",
        "    batch_size=32,\n",
        "    class_mode='binary'\n",
        ")\n"
      ],
      "execution_count": null,
      "outputs": [
        {
          "output_type": "stream",
          "text": [
            "Found 8000 images belonging to 2 classes.\n"
          ],
          "name": "stdout"
        }
      ]
    },
    {
      "cell_type": "code",
      "metadata": {
        "colab_type": "code",
        "id": "HVpWs0UNlQiZ",
        "colab": {
          "base_uri": "https://localhost:8080/",
          "height": 34
        },
        "outputId": "90fcf6c6-0e69-49c2-c9a8-faa70bae7731"
      },
      "source": [
        "# Importing the test dataset\n",
        "test_datagen = ImageDataGenerator(\n",
        "    rescale=1./255,\n",
        "    shear_range=0.2,\n",
        "    zoom_range=0.2,\n",
        "    horizontal_flip=True\n",
        ")\n",
        "\n",
        "testing_set = train_datagen.flow_from_directory(\n",
        "    '/content/drive/My Drive/Colab Notebooks/CNN cats and dogs/dataset/test_set',\n",
        "    target_size=(64, 64),\n",
        "    batch_size=32,\n",
        "    class_mode='binary'\n",
        ")"
      ],
      "execution_count": null,
      "outputs": [
        {
          "output_type": "stream",
          "text": [
            "Found 2000 images belonging to 2 classes.\n"
          ],
          "name": "stdout"
        }
      ]
    },
    {
      "cell_type": "code",
      "metadata": {
        "colab_type": "code",
        "id": "vMM6biCuRkGo",
        "colab": {}
      },
      "source": [
        "cnn = tf.keras.models.Sequential()\n",
        "# Add convolution layer\n",
        "cnn.add(tf.keras.layers.Conv2D(filters=32,\n",
        "                               kernel_size=3,\n",
        "                               activation='relu',\n",
        "                               input_shape=[64, 64, 3])\n",
        ")\n",
        "# Add pooling layer\n",
        "cnn.add(tf.keras.layers.MaxPool2D(pool_size = 2, strides=2))\n",
        "# Second convolution layer\n",
        "cnn.add(tf.keras.layers.Conv2D(filters=32,\n",
        "                               kernel_size=3,\n",
        "                               activation='relu')) # input shape is only added in the 1st layer\n",
        "# Second pooling layer\n",
        "cnn.add(tf.keras.layers.MaxPool2D(pool_size = 2, strides=2))\n",
        "# Add flatening layer\n",
        "cnn.add(tf.keras.layers.Flatten())\n",
        "# Add first full-connected layer\n",
        "cnn.add(tf.keras.layers.Dense(units=128, activation='relu'))\n",
        "# Second full-connected layer\n",
        "cnn.add(tf.keras.layers.Dense(units=1, activation='sigmoid'))"
      ],
      "execution_count": null,
      "outputs": []
    },
    {
      "cell_type": "code",
      "metadata": {
        "colab_type": "code",
        "id": "erohE5l8Uq-u",
        "colab": {}
      },
      "source": [
        "# Compiling\n",
        "cnn.compile(optimizer='adam', loss='binary_crossentropy', metrics=['accuracy'])\n",
        "\n",
        "# Training\n",
        "cnn.fit(x=training_set, validation_data=testing_set, epochs=25)"
      ],
      "execution_count": null,
      "outputs": []
    },
    {
      "cell_type": "code",
      "metadata": {
        "colab_type": "code",
        "id": "u2MoYTixWG1W",
        "colab": {
          "base_uri": "https://localhost:8080/",
          "height": 50
        },
        "outputId": "2f9b504d-1c19-4dec-da6e-dd79a948e38e"
      },
      "source": [
        "import numpy as np\n",
        "from keras.preprocessing import image\n",
        "# Making a single prediction\n",
        "dog_image_path = '/content/drive/My Drive/Colab Notebooks/CNN cats and dogs/dataset/single_prediction/cat_or_dog_1.jpg'\n",
        "dog_image = image.load_img(dog_image_path, target_size=(64, 64))\n",
        "# Convert image into a 2D array\n",
        "dog_image = image.img_to_array(dog_image)\n",
        "# Note that we need to put this image in a batch of the same size as selected before\n",
        "dog_image = np.expand_dims(dog_image, axis=0)\n",
        "result = cnn.predict(dog_image)\n",
        "print(training_set.class_indices)\n",
        "if result[0][0]  == 1:\n",
        "  prediction = 'dog'\n",
        "else:\n",
        "  prediction = 'cat'\n",
        "print(prediction)"
      ],
      "execution_count": 23,
      "outputs": [
        {
          "output_type": "stream",
          "text": [
            "{'cats': 0, 'dogs': 1}\n",
            "dog\n"
          ],
          "name": "stdout"
        }
      ]
    },
    {
      "cell_type": "code",
      "metadata": {
        "id": "GSY2rsFh6KVu",
        "colab_type": "code",
        "colab": {}
      },
      "source": [
        ""
      ],
      "execution_count": null,
      "outputs": []
    }
  ]
}