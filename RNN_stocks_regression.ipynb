{
  "nbformat": 4,
  "nbformat_minor": 0,
  "metadata": {
    "colab": {
      "name": "RNN_stocks_regression.ipynb",
      "provenance": [],
      "mount_file_id": "1_rBbkwudyVZhfMga2n3ntfmtENVHed5O",
      "authorship_tag": "ABX9TyPmHt8w1fa4OT6Tlm26ebRD",
      "include_colab_link": true
    },
    "kernelspec": {
      "name": "python3",
      "display_name": "Python 3"
    }
  },
  "cells": [
    {
      "cell_type": "markdown",
      "metadata": {
        "id": "view-in-github",
        "colab_type": "text"
      },
      "source": [
        "<a href=\"https://colab.research.google.com/github/brunokiyoshi/machine_learning/blob/master/RNN_stocks_regression.ipynb\" target=\"_parent\"><img src=\"https://colab.research.google.com/assets/colab-badge.svg\" alt=\"Open In Colab\"/></a>"
      ]
    },
    {
      "cell_type": "code",
      "metadata": {
        "id": "Xu5bRipDSe9z",
        "colab_type": "code",
        "colab": {}
      },
      "source": [
        "import numpy as np\n",
        "import matplotlib.pyplot as plt\n",
        "import pandas as pd"
      ],
      "execution_count": 1,
      "outputs": []
    },
    {
      "cell_type": "code",
      "metadata": {
        "id": "nmz37sSVTKQA",
        "colab_type": "code",
        "colab": {
          "base_uri": "https://localhost:8080/",
          "height": 134
        },
        "outputId": "ac57ea03-7169-4b04-9097-80a960d8ac48"
      },
      "source": [
        "# Import the training set\n",
        "dataset_train = pd.read_csv('/content/drive/My Drive/Colab Notebooks/RNN Stocks/Google_Stock_Price_Train.csv')\n",
        "# Select the Open price column\n",
        "training_set = dataset_train.iloc[:, 1:2].values\n",
        "training_set"
      ],
      "execution_count": 6,
      "outputs": [
        {
          "output_type": "execute_result",
          "data": {
            "text/plain": [
              "array([[325.25],\n",
              "       [331.27],\n",
              "       [329.83],\n",
              "       ...,\n",
              "       [793.7 ],\n",
              "       [783.33],\n",
              "       [782.75]])"
            ]
          },
          "metadata": {
            "tags": []
          },
          "execution_count": 6
        }
      ]
    },
    {
      "cell_type": "code",
      "metadata": {
        "id": "42JEGA5SUEny",
        "colab_type": "code",
        "colab": {}
      },
      "source": [
        "# Feature scaling\n",
        "from sklearn.preprocessing import MinMaxScaler\n",
        "sc = MinMaxScaler(feature_range=(0, 1))\n",
        "training_set_scaled = sc.fit_transform(training_set)"
      ],
      "execution_count": 7,
      "outputs": []
    },
    {
      "cell_type": "code",
      "metadata": {
        "id": "fzEuesYEUsFm",
        "colab_type": "code",
        "colab": {
          "base_uri": "https://localhost:8080/",
          "height": 134
        },
        "outputId": "a01bb73e-185e-4d2e-d475-378605237bb3"
      },
      "source": [
        "print(training_set_scaled)"
      ],
      "execution_count": 8,
      "outputs": [
        {
          "output_type": "stream",
          "text": [
            "[[0.08581368]\n",
            " [0.09701243]\n",
            " [0.09433366]\n",
            " ...\n",
            " [0.95725128]\n",
            " [0.93796041]\n",
            " [0.93688146]]\n"
          ],
          "name": "stdout"
        }
      ]
    },
    {
      "cell_type": "code",
      "metadata": {
        "id": "TduKDGUVVjOJ",
        "colab_type": "code",
        "colab": {}
      },
      "source": [
        "# Create a data structure with X timesteps and 1 output\n",
        "time_steps = 60\n",
        "X_train = []\n",
        "y_train = []\n",
        "for i in range(time_steps, len(training_set_scaled)):\n",
        "  X_train.append(training_set_scaled[i - time_steps:i, 0])\n",
        "  y_train.append(training_set_scaled[i, 0])\n",
        "X_train, y_train = np.array(X_train), np.array(y_train)"
      ],
      "execution_count": 30,
      "outputs": []
    },
    {
      "cell_type": "code",
      "metadata": {
        "id": "0DLOyryCXYCF",
        "colab_type": "code",
        "colab": {
          "base_uri": "https://localhost:8080/",
          "height": 202
        },
        "outputId": "5c4a3bdf-a72f-4f1c-e085-d3d57b482438"
      },
      "source": [
        "print(X_train[0])\n",
        "print(y_train[0])"
      ],
      "execution_count": 33,
      "outputs": [
        {
          "output_type": "stream",
          "text": [
            "[0.08581368 0.09701243 0.09433366 0.09156187 0.07984225 0.0643277\n",
            " 0.0585423  0.06568569 0.06109085 0.06639259 0.0614257  0.07474514\n",
            " 0.02797827 0.02379269 0.02409033 0.0159238  0.01078949 0.00967334\n",
            " 0.01642607 0.02100231 0.02280676 0.02273235 0.02810849 0.03212665\n",
            " 0.0433812  0.04475779 0.04790163 0.0440695  0.04648783 0.04745517\n",
            " 0.04873875 0.03936305 0.04137213 0.04034898 0.04784582 0.04325099\n",
            " 0.04356723 0.04286033 0.04602277 0.05398467 0.05738894 0.05714711\n",
            " 0.05569611 0.04421832 0.04514845 0.04605997 0.04412531 0.03675869\n",
            " 0.04486941 0.05065481 0.05214302 0.05612397 0.05818885 0.06540665\n",
            " 0.06882953 0.07243843 0.07993526 0.07846566 0.08034452 0.08497656]\n",
            "0.08627874097775134\n"
          ],
          "name": "stdout"
        }
      ]
    },
    {
      "cell_type": "code",
      "metadata": {
        "id": "kmqFWye7Xam1",
        "colab_type": "code",
        "colab": {}
      },
      "source": [
        "# Reshaping\n",
        "# Keras recurrent layers require: (batch_size, timesteps, input_dims) \n",
        "X_train = np.reshape(X_train, (X_train.shape[0], X_train.shape[1], 1)) # 1 because I'm only using the Open price as input\n"
      ],
      "execution_count": null,
      "outputs": []
    },
    {
      "cell_type": "code",
      "metadata": {
        "id": "6REm2L12Xbd3",
        "colab_type": "code",
        "colab": {}
      },
      "source": [
        "# Building the RNN\n",
        "from keras.models import Sequential\n",
        "from keras.layers import Dense, LSTM, Dropout\n"
      ],
      "execution_count": 39,
      "outputs": []
    },
    {
      "cell_type": "code",
      "metadata": {
        "id": "J8yYE_QigXIo",
        "colab_type": "code",
        "colab": {}
      },
      "source": [
        "# Initialize the RNN\n",
        "regressor = Sequential() # sequence of layers"
      ],
      "execution_count": 40,
      "outputs": []
    },
    {
      "cell_type": "code",
      "metadata": {
        "id": "UExAmuVPgrX_",
        "colab_type": "code",
        "colab": {}
      },
      "source": [
        "# Add the first LSTM layer\n",
        "'''\n",
        "units = number of LSTM neurons in each layer\n",
        "return_sequences = true if adding other lstm layers after this one\n",
        "'''\n",
        "regressor.add(LSTM(units=64, return_sequences=True, input_shape=(X_train.shape[1], 1)))\n",
        "# Dropout regularization prevents overfitting\n",
        "cells_to_drop = 0.2\n",
        "regressor.add(Dropout(cells_to_drop))\n"
      ],
      "execution_count": 41,
      "outputs": []
    },
    {
      "cell_type": "code",
      "metadata": {
        "id": "EM9wfEZhiOwQ",
        "colab_type": "code",
        "colab": {}
      },
      "source": [
        "# Add a second LSTM layer and Dropout\n",
        "# Input shape is only required for the 1st layer\n",
        "regressor.add(LSTM(units=64, return_sequences=True))\n",
        "regressor.add(Dropout(cells_to_drop))\n",
        "\n",
        "# Add third LSTM layers and Dropout\n",
        "regressor.add(LSTM(units=64, return_sequences=True))\n",
        "regressor.add(Dropout(cells_to_drop))\n",
        "\n",
        "# Add fourth LSTM and Dropout\n",
        "regressor.add(LSTM(units=64, return_sequences=False))\n",
        "regressor.add(Dropout(cells_to_drop))"
      ],
      "execution_count": 42,
      "outputs": []
    },
    {
      "cell_type": "code",
      "metadata": {
        "id": "vmItyQ8pi-jB",
        "colab_type": "code",
        "colab": {}
      },
      "source": [
        "# Add output layer\n",
        "regressor.add(Dense(units=1))\n"
      ],
      "execution_count": 43,
      "outputs": []
    },
    {
      "cell_type": "code",
      "metadata": {
        "id": "NSVc7QK4jgXC",
        "colab_type": "code",
        "colab": {
          "base_uri": "https://localhost:8080/",
          "height": 1000
        },
        "outputId": "9f817118-dfa8-4e8e-9e3d-d987672cc324"
      },
      "source": [
        "# Compiling and training\n",
        "# adam is usually a safe choice\n",
        "regressor.compile(optimizer='adam', loss='mean_squared_error')\n",
        "\n",
        "regressor.fit(X_train, y_train, epochs=100, batch_size=64)"
      ],
      "execution_count": 46,
      "outputs": [
        {
          "output_type": "stream",
          "text": [
            "Epoch 1/100\n",
            "19/19 [==============================] - 3s 169ms/step - loss: 0.0080\n",
            "Epoch 2/100\n",
            "19/19 [==============================] - 3s 168ms/step - loss: 0.0037\n",
            "Epoch 3/100\n",
            "19/19 [==============================] - 3s 168ms/step - loss: 0.0038\n",
            "Epoch 4/100\n",
            "19/19 [==============================] - 3s 171ms/step - loss: 0.0033\n",
            "Epoch 5/100\n",
            "19/19 [==============================] - 3s 169ms/step - loss: 0.0031\n",
            "Epoch 6/100\n",
            "19/19 [==============================] - 3s 171ms/step - loss: 0.0031\n",
            "Epoch 7/100\n",
            "19/19 [==============================] - 3s 171ms/step - loss: 0.0031\n",
            "Epoch 8/100\n",
            "19/19 [==============================] - 3s 168ms/step - loss: 0.0032\n",
            "Epoch 9/100\n",
            "19/19 [==============================] - 3s 174ms/step - loss: 0.0031\n",
            "Epoch 10/100\n",
            "19/19 [==============================] - 3s 173ms/step - loss: 0.0036\n",
            "Epoch 11/100\n",
            "19/19 [==============================] - 3s 172ms/step - loss: 0.0032\n",
            "Epoch 12/100\n",
            "19/19 [==============================] - 3s 170ms/step - loss: 0.0032\n",
            "Epoch 13/100\n",
            "19/19 [==============================] - 3s 174ms/step - loss: 0.0028\n",
            "Epoch 14/100\n",
            "19/19 [==============================] - 3s 169ms/step - loss: 0.0028\n",
            "Epoch 15/100\n",
            "19/19 [==============================] - 3s 169ms/step - loss: 0.0028\n",
            "Epoch 16/100\n",
            "19/19 [==============================] - 3s 171ms/step - loss: 0.0027\n",
            "Epoch 17/100\n",
            "19/19 [==============================] - 3s 171ms/step - loss: 0.0026\n",
            "Epoch 18/100\n",
            "19/19 [==============================] - 3s 170ms/step - loss: 0.0026\n",
            "Epoch 19/100\n",
            "19/19 [==============================] - 3s 170ms/step - loss: 0.0030\n",
            "Epoch 20/100\n",
            "19/19 [==============================] - 3s 171ms/step - loss: 0.0027\n",
            "Epoch 21/100\n",
            "19/19 [==============================] - 3s 171ms/step - loss: 0.0027\n",
            "Epoch 22/100\n",
            "19/19 [==============================] - 3s 170ms/step - loss: 0.0026\n",
            "Epoch 23/100\n",
            "19/19 [==============================] - 3s 171ms/step - loss: 0.0027\n",
            "Epoch 24/100\n",
            "19/19 [==============================] - 3s 170ms/step - loss: 0.0032\n",
            "Epoch 25/100\n",
            "19/19 [==============================] - 3s 169ms/step - loss: 0.0025\n",
            "Epoch 26/100\n",
            "19/19 [==============================] - 3s 171ms/step - loss: 0.0025\n",
            "Epoch 27/100\n",
            "19/19 [==============================] - 3s 168ms/step - loss: 0.0022\n",
            "Epoch 28/100\n",
            "19/19 [==============================] - 3s 168ms/step - loss: 0.0025\n",
            "Epoch 29/100\n",
            "19/19 [==============================] - 3s 170ms/step - loss: 0.0025\n",
            "Epoch 30/100\n",
            "19/19 [==============================] - 3s 168ms/step - loss: 0.0025\n",
            "Epoch 31/100\n",
            "19/19 [==============================] - 3s 173ms/step - loss: 0.0025\n",
            "Epoch 32/100\n",
            "19/19 [==============================] - 3s 172ms/step - loss: 0.0025\n",
            "Epoch 33/100\n",
            "19/19 [==============================] - 3s 171ms/step - loss: 0.0023\n",
            "Epoch 34/100\n",
            "19/19 [==============================] - 3s 167ms/step - loss: 0.0021\n",
            "Epoch 35/100\n",
            "19/19 [==============================] - 3s 170ms/step - loss: 0.0021\n",
            "Epoch 36/100\n",
            "19/19 [==============================] - 3s 169ms/step - loss: 0.0024\n",
            "Epoch 37/100\n",
            "19/19 [==============================] - 3s 168ms/step - loss: 0.0028\n",
            "Epoch 38/100\n",
            "19/19 [==============================] - 3s 172ms/step - loss: 0.0023\n",
            "Epoch 39/100\n",
            "19/19 [==============================] - 3s 169ms/step - loss: 0.0021\n",
            "Epoch 40/100\n",
            "19/19 [==============================] - 3s 168ms/step - loss: 0.0022\n",
            "Epoch 41/100\n",
            "19/19 [==============================] - 3s 171ms/step - loss: 0.0022\n",
            "Epoch 42/100\n",
            "19/19 [==============================] - 3s 171ms/step - loss: 0.0021\n",
            "Epoch 43/100\n",
            "19/19 [==============================] - 3s 169ms/step - loss: 0.0022\n",
            "Epoch 44/100\n",
            "19/19 [==============================] - 3s 171ms/step - loss: 0.0021\n",
            "Epoch 45/100\n",
            "19/19 [==============================] - 3s 170ms/step - loss: 0.0021\n",
            "Epoch 46/100\n",
            "19/19 [==============================] - 3s 169ms/step - loss: 0.0021\n",
            "Epoch 47/100\n",
            "19/19 [==============================] - 3s 171ms/step - loss: 0.0023\n",
            "Epoch 48/100\n",
            "19/19 [==============================] - 3s 171ms/step - loss: 0.0020\n",
            "Epoch 49/100\n",
            "19/19 [==============================] - 3s 171ms/step - loss: 0.0020\n",
            "Epoch 50/100\n",
            "19/19 [==============================] - 3s 170ms/step - loss: 0.0021\n",
            "Epoch 51/100\n",
            "19/19 [==============================] - 3s 169ms/step - loss: 0.0021\n",
            "Epoch 52/100\n",
            "19/19 [==============================] - 3s 169ms/step - loss: 0.0021\n",
            "Epoch 53/100\n",
            "19/19 [==============================] - 3s 171ms/step - loss: 0.0019\n",
            "Epoch 54/100\n",
            "19/19 [==============================] - 3s 171ms/step - loss: 0.0019\n",
            "Epoch 55/100\n",
            "19/19 [==============================] - 3s 168ms/step - loss: 0.0018\n",
            "Epoch 56/100\n",
            "19/19 [==============================] - 3s 170ms/step - loss: 0.0018\n",
            "Epoch 57/100\n",
            "19/19 [==============================] - 3s 169ms/step - loss: 0.0019\n",
            "Epoch 58/100\n",
            "19/19 [==============================] - 3s 170ms/step - loss: 0.0021\n",
            "Epoch 59/100\n",
            "19/19 [==============================] - 3s 172ms/step - loss: 0.0019\n",
            "Epoch 60/100\n",
            "19/19 [==============================] - 3s 176ms/step - loss: 0.0018\n",
            "Epoch 61/100\n",
            "19/19 [==============================] - 3s 174ms/step - loss: 0.0016\n",
            "Epoch 62/100\n",
            "19/19 [==============================] - 3s 177ms/step - loss: 0.0017\n",
            "Epoch 63/100\n",
            "19/19 [==============================] - 3s 171ms/step - loss: 0.0016\n",
            "Epoch 64/100\n",
            "19/19 [==============================] - 3s 171ms/step - loss: 0.0014\n",
            "Epoch 65/100\n",
            "19/19 [==============================] - 3s 172ms/step - loss: 0.0016\n",
            "Epoch 66/100\n",
            "19/19 [==============================] - 3s 172ms/step - loss: 0.0019\n",
            "Epoch 67/100\n",
            "19/19 [==============================] - 3s 170ms/step - loss: 0.0018\n",
            "Epoch 68/100\n",
            "19/19 [==============================] - 3s 170ms/step - loss: 0.0017\n",
            "Epoch 69/100\n",
            "19/19 [==============================] - 3s 169ms/step - loss: 0.0018\n",
            "Epoch 70/100\n",
            "19/19 [==============================] - 3s 170ms/step - loss: 0.0017\n",
            "Epoch 71/100\n",
            "19/19 [==============================] - 3s 169ms/step - loss: 0.0018\n",
            "Epoch 72/100\n",
            "19/19 [==============================] - 3s 168ms/step - loss: 0.0015\n",
            "Epoch 73/100\n",
            "19/19 [==============================] - 3s 170ms/step - loss: 0.0017\n",
            "Epoch 74/100\n",
            "19/19 [==============================] - 3s 169ms/step - loss: 0.0016\n",
            "Epoch 75/100\n",
            "19/19 [==============================] - 3s 169ms/step - loss: 0.0015\n",
            "Epoch 76/100\n",
            "19/19 [==============================] - 3s 170ms/step - loss: 0.0015\n",
            "Epoch 77/100\n",
            "19/19 [==============================] - 3s 171ms/step - loss: 0.0016\n",
            "Epoch 78/100\n",
            "19/19 [==============================] - 3s 169ms/step - loss: 0.0015\n",
            "Epoch 79/100\n",
            "19/19 [==============================] - 3s 167ms/step - loss: 0.0015\n",
            "Epoch 80/100\n",
            "19/19 [==============================] - 3s 168ms/step - loss: 0.0014\n",
            "Epoch 81/100\n",
            "19/19 [==============================] - 3s 167ms/step - loss: 0.0016\n",
            "Epoch 82/100\n",
            "19/19 [==============================] - 3s 169ms/step - loss: 0.0015\n",
            "Epoch 83/100\n",
            "19/19 [==============================] - 3s 169ms/step - loss: 0.0015\n",
            "Epoch 84/100\n",
            "19/19 [==============================] - 3s 171ms/step - loss: 0.0015\n",
            "Epoch 85/100\n",
            "19/19 [==============================] - 3s 169ms/step - loss: 0.0015\n",
            "Epoch 86/100\n",
            "19/19 [==============================] - 3s 170ms/step - loss: 0.0015\n",
            "Epoch 87/100\n",
            "19/19 [==============================] - 3s 171ms/step - loss: 0.0014\n",
            "Epoch 88/100\n",
            "19/19 [==============================] - 3s 170ms/step - loss: 0.0014\n",
            "Epoch 89/100\n",
            "19/19 [==============================] - 3s 170ms/step - loss: 0.0015\n",
            "Epoch 90/100\n",
            "19/19 [==============================] - 3s 170ms/step - loss: 0.0012\n",
            "Epoch 91/100\n",
            "19/19 [==============================] - 3s 169ms/step - loss: 0.0015\n",
            "Epoch 92/100\n",
            "19/19 [==============================] - 3s 170ms/step - loss: 0.0014\n",
            "Epoch 93/100\n",
            "19/19 [==============================] - 3s 168ms/step - loss: 0.0013\n",
            "Epoch 94/100\n",
            "19/19 [==============================] - 3s 170ms/step - loss: 0.0014\n",
            "Epoch 95/100\n",
            "19/19 [==============================] - 3s 171ms/step - loss: 0.0014\n",
            "Epoch 96/100\n",
            "19/19 [==============================] - 3s 169ms/step - loss: 0.0014\n",
            "Epoch 97/100\n",
            "19/19 [==============================] - 3s 169ms/step - loss: 0.0014\n",
            "Epoch 98/100\n",
            "19/19 [==============================] - 3s 171ms/step - loss: 0.0014\n",
            "Epoch 99/100\n",
            "19/19 [==============================] - 3s 173ms/step - loss: 0.0014\n",
            "Epoch 100/100\n",
            "19/19 [==============================] - 3s 174ms/step - loss: 0.0014\n"
          ],
          "name": "stdout"
        },
        {
          "output_type": "execute_result",
          "data": {
            "text/plain": [
              "<tensorflow.python.keras.callbacks.History at 0x7f80c9d6b5f8>"
            ]
          },
          "metadata": {
            "tags": []
          },
          "execution_count": 46
        }
      ]
    },
    {
      "cell_type": "code",
      "metadata": {
        "id": "7vmx45c8kUJ-",
        "colab_type": "code",
        "colab": {}
      },
      "source": [
        "# Get real values\n",
        "dataset_test = pd.read_csv('/content/drive/My Drive/Colab Notebooks/RNN Stocks/Google_Stock_Price_Test.csv')\n",
        "real_stock_price = dataset_test.iloc[:, 1:2].values\n",
        "# Get predictions\n",
        "dataset_complete = pd.concat((dataset_train['Open'], dataset_test['Open']), axis=0)\n",
        "inputs = dataset_complete[len(dataset_complete)-len(dataset_test) - time_steps:].values\n",
        "inputs = inputs.reshape(-1, 1)\n",
        "inputs = sc.transform(inputs)"
      ],
      "execution_count": 53,
      "outputs": []
    },
    {
      "cell_type": "code",
      "metadata": {
        "id": "oWT-73aFpRp6",
        "colab_type": "code",
        "colab": {}
      },
      "source": [
        "X_test = []\n",
        "for i in range(60, 80):\n",
        "  X_test.append(inputs[i-60:i, 0])\n",
        "X_test = np.array(X_test)\n",
        "X_test = np.reshape(X_test, (X_test.shape[0], X_test.shape[1], 1))\n",
        "predicted_stock_prices = regressor.predict(X_test)\n",
        "# Inverse scale\n",
        "predicted_stock_prices = sc.inverse_transform(predicted_stock_prices)\n",
        "\n"
      ],
      "execution_count": 55,
      "outputs": []
    },
    {
      "cell_type": "code",
      "metadata": {
        "id": "Ao4up-kSpnv0",
        "colab_type": "code",
        "colab": {
          "base_uri": "https://localhost:8080/",
          "height": 353
        },
        "outputId": "e69226c7-1271-40ed-c667-bba0e4b90a6d"
      },
      "source": [
        "predicted_stock_prices"
      ],
      "execution_count": 56,
      "outputs": [
        {
          "output_type": "execute_result",
          "data": {
            "text/plain": [
              "array([[784.4932 ],\n",
              "       [781.57886],\n",
              "       [782.828  ],\n",
              "       [784.1891 ],\n",
              "       [787.5111 ],\n",
              "       [793.4815 ],\n",
              "       [797.8106 ],\n",
              "       [798.29456],\n",
              "       [797.9849 ],\n",
              "       [797.92206],\n",
              "       [798.0966 ],\n",
              "       [798.1495 ],\n",
              "       [798.23865],\n",
              "       [799.2141 ],\n",
              "       [800.4208 ],\n",
              "       [806.3172 ],\n",
              "       [813.62054],\n",
              "       [820.5096 ],\n",
              "       [822.80963],\n",
              "       [815.96625]], dtype=float32)"
            ]
          },
          "metadata": {
            "tags": []
          },
          "execution_count": 56
        }
      ]
    },
    {
      "cell_type": "code",
      "metadata": {
        "id": "A76m6MOjq7uh",
        "colab_type": "code",
        "colab": {
          "base_uri": "https://localhost:8080/",
          "height": 295
        },
        "outputId": "c7a072e0-d50f-4714-efd4-9be97841e7e2"
      },
      "source": [
        "plt.plot(real_stock_price, color='red', label='Real Prices')\n",
        "plt.plot(predicted_stock_prices, color='green', label='Predicted Prices')\n",
        "plt.title(\"Stock prices prediction\")\n",
        "plt.xlabel(\"Time\")\n",
        "plt.ylabel(\"Price\")\n",
        "plt.legend()\n",
        "plt.show()\n"
      ],
      "execution_count": 57,
      "outputs": [
        {
          "output_type": "display_data",
          "data": {
            "image/png": "[encoded data removed]",
            "text/plain": [
              "<Figure size 432x288 with 1 Axes>"
            ]
          },
          "metadata": {
            "tags": [],
            "needs_background": "light"
          }
        }
      ]
    },
    {
      "cell_type": "code",
      "metadata": {
        "id": "3HqYyyDprmMa",
        "colab_type": "code",
        "colab": {}
      },
      "source": [
        ""
      ],
      "execution_count": null,
      "outputs": []
    }
  ]
}